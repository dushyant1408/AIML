{
 "cells": [
  {
   "cell_type": "code",
   "execution_count": 10,
   "metadata": {},
   "outputs": [
    {
     "name": "stdout",
     "output_type": "stream",
     "text": [
      "(15+18j)\n",
      "(5+6j)\n",
      "(-22+120j)\n",
      "(2+0j)\n"
     ]
    }
   ],
   "source": [
    "#  1. Research on whether addition, subtraction, multiplication, division, floor division, and modulo operations\n",
    "#     be performed on complex numbers. Based on your study, implement a Python program to demonstrate\n",
    "#     these operations.\n",
    "\n",
    "complexOne = 10 + 12j \n",
    "complexTwo = 5  +  6j \n",
    "\n",
    "print(complexOne + complexTwo) \n",
    "\n",
    "print(complexOne - complexTwo) \n",
    "\n",
    "print(complexOne * complexTwo) \n",
    "\n",
    "print(complexOne / complexTwo) \n",
    "\n",
    "## gives an Error \n",
    "# TypeError: can't mod complex numbers. \n",
    "#print(complexOne % complexTwo) \n",
    "\n",
    "## gives an Error \n",
    "#TypeError: can't take floor of complex number. \n",
    "#print(complexOne // complexTwo) "
   ]
  },
  {
   "cell_type": "code",
   "execution_count": 59,
   "metadata": {},
   "outputs": [
    {
     "name": "stdout",
     "output_type": "stream",
     "text": [
      "First :  0\n",
      "First :  1\n",
      "First :  2\n",
      "First :  3\n",
      "First :  4\n",
      "Second :  14\n",
      "Second :  18\n"
     ]
    },
    {
     "data": {
      "text/plain": [
       "('Number of Times ', 20)"
      ]
     },
     "execution_count": 59,
     "metadata": {},
     "output_type": "execute_result"
    }
   ],
   "source": [
    "# 2. Research on range() functions and its parameters. Create a markdown cell and write in your own words\n",
    "#(no copy-paste from google please) what you understand about it. Implement a small program of your\n",
    "#choice on the same.\n",
    "\n",
    "#As from https://docs.python.org/3/library/functions.html#func-range\n",
    "\n",
    "#class range(stop)\n",
    "#class range(start, stop[, step])\n",
    "#Rather than being a function, range is actually an immutable sequence type\n",
    "\n",
    "for number in range(5):\n",
    "    print(\"First : \" , number)\n",
    "\n",
    "    \n",
    "for number in range(14, 22, 4):\n",
    "    print(\"Second : \" , number)\n",
    "    \n",
    "## A Function to  check how may tiems a number comes from 1 till 100 \n",
    "checkNumber = 4 \n",
    "noOfTimes = 0 \n",
    "\n",
    "for unitNumber in range(0, 10, 1): \n",
    "    for tenNumber in range(0, 10, 1): \n",
    "        if unitNumber == checkNumber: \n",
    "            noOfTimes = noOfTimes + 1 \n",
    "        if tenNumber == checkNumber: \n",
    "            noOfTimes = noOfTimes + 1 \n",
    "\n",
    "\"Number of Times \" , noOfTimes \n"
   ]
  },
  {
   "cell_type": "code",
   "execution_count": 33,
   "metadata": {},
   "outputs": [
    {
     "data": {
      "text/plain": [
       "0.5"
      ]
     },
     "execution_count": 33,
     "metadata": {},
     "output_type": "execute_result"
    }
   ],
   "source": [
    "# 3. Consider two numbers. Perform their subtraction and if the result of subtraction is greater than 25, print\n",
    "#    their multiplication result else print their division result.\n",
    "def thirdFunction(num1, num2): \n",
    "    if num1 - num2 > 25 or num2 - num1 > 25: \n",
    "        return num1 * num2 \n",
    "    else:  \n",
    "        return num1 / num2 \n",
    "    \n",
    "thirdFunction(10, 20/8)"
   ]
  },
  {
   "cell_type": "code",
   "execution_count": 53,
   "metadata": {},
   "outputs": [
    {
     "name": "stdout",
     "output_type": "stream",
     "text": [
      "Desired output Number : for  20  is  398\n",
      "Desired output Number : for  2  is  2\n",
      "Desired output Number : for  24  is  574\n",
      "Desired output Number : for  56  is  3134\n",
      "Desired output Number : for  26  is  674\n"
     ]
    }
   ],
   "source": [
    "# 4. Consider a list of 10 elements of integer values. If the number in the list is divisible by 2, print the result as\n",
    "# \"square of that number minus 2\".\n",
    "\n",
    "listOfNumbers = [27, 20, 2, 47, 24, 11, 56, 26, 17, 63] \n",
    "for aNumber in listOfNumbers: \n",
    "    if aNumber % 2 == 0: \n",
    "        print (\"Desired output Number : for \", aNumber, \" is \", aNumber**2 - 2)\n",
    "        \n"
   ]
  },
  {
   "cell_type": "code",
   "execution_count": 57,
   "metadata": {},
   "outputs": [
    {
     "name": "stdout",
     "output_type": "stream",
     "text": [
      "Take This Number :  6.0\n",
      "Take This Number :  7.0\n",
      "Take This Number :  8.0\n",
      "Take This Number :  4.0\n"
     ]
    }
   ],
   "source": [
    "# 5. Consider a list of 10 elements. Print all the elements in the list which are greater than 7 when that number\n",
    "# is divided 2.\n",
    "\n",
    "listOfNumbers = [2, 6, 12, 9, 13, 9, 5, 14, 16, 8] \n",
    "for aNumber in listOfNumbers: \n",
    "    if aNumber % 2 == 0:\n",
    "        if aNumber > 7: \n",
    "            print(\"Take This Number : \", aNumber / 2)"
   ]
  }
 ],
 "metadata": {
  "kernelspec": {
   "display_name": "Python 3",
   "language": "python",
   "name": "python3"
  },
  "language_info": {
   "codemirror_mode": {
    "name": "ipython",
    "version": 3
   },
   "file_extension": ".py",
   "mimetype": "text/x-python",
   "name": "python",
   "nbconvert_exporter": "python",
   "pygments_lexer": "ipython3",
   "version": "3.7.6"
  }
 },
 "nbformat": 4,
 "nbformat_minor": 4
}
