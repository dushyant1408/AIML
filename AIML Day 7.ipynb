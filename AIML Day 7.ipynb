{
 "cells": [
  {
   "cell_type": "code",
   "execution_count": 7,
   "metadata": {},
   "outputs": [],
   "source": [
    "# 1. Write a program to copy the contents of one file to another using a for loop. \n",
    "\n",
    "aFile   = open(\"aFile.txt\",   mode='r', encoding='utf-8') \n",
    "newFile = open(\"newFile.txt\", mode='w', encoding='utf-8')  \n",
    "\n",
    "with newFile as f:\n",
    "    for aLine in aFile: \n",
    "        f.write(aLine)\n",
    "    f.close()\n"
   ]
  },
  {
   "cell_type": "code",
   "execution_count": 12,
   "metadata": {},
   "outputs": [
    {
     "name": "stdout",
     "output_type": "stream",
     "text": [
      "Maximum Marks are  80 , acheived in  Maths\n",
      "Minimum Marks are  43 , acheived in  Hindi\n"
     ]
    }
   ],
   "source": [
    "# 2. Write a Python program to find maximum and minimum values in the dictionary. \n",
    "#    Do not use built-in min and max functions.\n",
    "\n",
    "myDictionary = { \"Hindi\": 43, \"English\": 56, \"Maths\": 80, \"Science\":65, \"Social Science\": 50}\n",
    "maxKey = \"\"\n",
    "minKey = \"\"\n",
    "maxMarks = 0 \n",
    "minMarks = 100 \n",
    "\n",
    "for key, value in myDictionary.items(): \n",
    "    if value > maxMarks: \n",
    "        maxMarks = value\n",
    "        maxKey = key\n",
    "    if value < minMarks: \n",
    "        minMarks = value \n",
    "        minKey = key \n",
    "print(\"Maximum Marks are \", maxMarks, \", acheived in \", maxKey)\n",
    "print(\"Minimum Marks are \", minMarks, \", acheived in \", minKey)"
   ]
  }
 ],
 "metadata": {
  "kernelspec": {
   "display_name": "Python 3",
   "language": "python",
   "name": "python3"
  },
  "language_info": {
   "codemirror_mode": {
    "name": "ipython",
    "version": 3
   },
   "file_extension": ".py",
   "mimetype": "text/x-python",
   "name": "python",
   "nbconvert_exporter": "python",
   "pygments_lexer": "ipython3",
   "version": "3.7.6"
  }
 },
 "nbformat": 4,
 "nbformat_minor": 4
}
