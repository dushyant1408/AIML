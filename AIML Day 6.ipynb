{
 "cells": [
  {
   "cell_type": "code",
   "execution_count": 11,
   "metadata": {},
   "outputs": [
    {
     "data": {
      "text/plain": [
       "'gmail'"
      ]
     },
     "execution_count": 11,
     "metadata": {},
     "output_type": "execute_result"
    }
   ],
   "source": [
    "# 1. Assuming that we have some email addresses in the \"username@companyname.com\" format, please\n",
    "#write a program to print the company name of a given email address. Both user names and company\n",
    "#names are composed of letters only.\n",
    "#Input Format:\n",
    "#The first line of the input contains an email address.\n",
    "#Output Format:\n",
    "#Print the company name in a single line. Example;\n",
    "#Input: john@google.com\n",
    "#Output: google.\n",
    "\n",
    "aString = \"ciodushy@gmail.com\"\n",
    "\n",
    "aDomain = aString[aString.find('@') + 1: aString.find('.') ]\n"
   ]
  },
  {
   "cell_type": "code",
   "execution_count": 20,
   "metadata": {},
   "outputs": [
    {
     "data": {
      "text/plain": [
       "'bag, hello, without, world'"
      ]
     },
     "execution_count": 20,
     "metadata": {},
     "output_type": "execute_result"
    }
   ],
   "source": [
    "# 2. Write a program that accepts a comma-separated sequence of words as input and prints the words in a\n",
    "#comma-separated sequence after sorting them alphabetically.\n",
    "#Input Format:\n",
    "#The first line of input contains words separated by the comma.\n",
    "#Output Format:\n",
    "#Print the sorted words separated by the comma.\n",
    "#Example:\n",
    "#Input:    without,hello,bag,world\n",
    "#Output:   bag,hello,without,world\n",
    "\n",
    "aString = \"without,hello,bag,world\"\n",
    "\n",
    "\", \".join(sorted(aString.split(',')))\n"
   ]
  },
  {
   "cell_type": "code",
   "execution_count": 14,
   "metadata": {},
   "outputs": [
    {
     "name": "stdout",
     "output_type": "stream",
     "text": [
      "List {'yellow', 'green', 'orange', 'blue', 'red', 'violet', 'indigo'}\n",
      "Colors\n",
      "yellow\n",
      "green\n",
      "orange\n",
      "blue\n",
      "red\n",
      "violet\n",
      "indigo\n",
      "Added {'yellow', 'green', 'orange', 'blue', 'cyan', 'red', 'violet', 'indigo'}\n",
      "Multipke Add {'yellow', 'green', 'orange', 'blue', 'cyan', 'magenta', 'red', 'violet', 'indigo', 'peach'}\n",
      "Legth 10\n",
      "Original {'yellow', 'green', 'orange', 'blue', 'red', 'violet', 'indigo', 'peach'}\n",
      "Original {'yellow', 'green', 'orange', 'blue', 'red', 'violet', 'indigo', 'peach', 'Summer Sand'}\n",
      "Popped {'green', 'orange', 'blue', 'red', 'violet', 'indigo', 'peach', 'Summer Sand'}\n",
      "{'yellow', 'green', 'red'}\n"
     ]
    }
   ],
   "source": [
    "# 3. Create your own Jupyter Notebook for Sets. Reference link:\n",
    "# https://www.w3schools.com/python/python_sets.asp\n",
    "\n",
    "#list of object s \n",
    "rainbow = {'violet', 'indigo', 'blue', 'green', 'yellow', 'orange', 'red'}\n",
    "print ('List', rainbow)\n",
    "\n",
    "#Iterate through colours \n",
    "print('Colors')\n",
    "for color in rainbow: \n",
    "    print(color)\n",
    "\n",
    "#adding an Object \n",
    "rainbow.add('cyan')\n",
    "print('Added', rainbow)\n",
    "\n",
    "#Adding Multiple Objects \n",
    "rainbow.update(['magenta', 'peach'])\n",
    "print('Multipke Add', rainbow)\n",
    "\n",
    "#Length \n",
    "print('Legth', len(rainbow))\n",
    "\n",
    "#Remove unwanted \n",
    "rainbow.remove('magenta')\n",
    "rainbow.remove('cyan')\n",
    "\n",
    "print('Original', rainbow)\n",
    "\n",
    "\n",
    "#Removing Last item by POP\n",
    "rainbow.add('Summer Sand')\n",
    "print('Original', rainbow)\n",
    "rainbow.pop()\n",
    "print('Popped', rainbow)\n",
    "\n",
    "\n",
    "\n",
    "StreetLights = set((\"red\", \"yellow\", \"green\")) # see, there are double round-brackets\n",
    "print(StreetLights)"
   ]
  },
  {
   "cell_type": "code",
   "execution_count": 16,
   "metadata": {},
   "outputs": [
    {
     "name": "stdout",
     "output_type": "stream",
     "text": [
      "5\n"
     ]
    }
   ],
   "source": [
    "# 4. Given a list of n-1 numbers ranging from 1 to n, your task is to find the missing number. \n",
    "#  Example:  Input:1 2 4 6 3 7 8  Output:5\n",
    "\n",
    "aNumberList = { 1, 2, 4, 6, 3, 7, 8, }\n",
    "\n",
    "checkNo = 0 \n",
    "for aNo in aNumberList: \n",
    "    checkNo = checkNo + 1\n",
    "    if (checkNo != aNo): \n",
    "        print(checkNo)\n",
    "        break\n"
   ]
  },
  {
   "cell_type": "code",
   "execution_count": 18,
   "metadata": {},
   "outputs": [
    {
     "name": "stdout",
     "output_type": "stream",
     "text": [
      "{'120', '155', '35', '12', '24', '88'}\n"
     ]
    }
   ],
   "source": [
    "# 5. With a given list L, write a program to print this list L after removing all duplicate values with original order reserved.\n",
    "#Example: If the input list is 12 24 35 24 88 120 155 88 120 155\n",
    "# Then the output should be  12 24 35 88 120 155\n",
    "\n",
    "givenList = { '12', '24', '35', '24', '88', '120', '155', '88', '120', '155' }\n",
    "\n",
    "bucketList = { 'n' }\n",
    "for everyNumber in givenList: \n",
    "    #Check if the number is already present \n",
    "    #If the number is already present, it will be in the Bucket list. \n",
    "    for checkNo in bucketList: \n",
    "        if (checkNo == everyNumber):\n",
    "            givenList.remove(checkNo)\n",
    "    bucketList.add(checkNo)\n",
    "print(givenList)"
   ]
  }
 ],
 "metadata": {
  "kernelspec": {
   "display_name": "Python 3",
   "language": "python",
   "name": "python3"
  },
  "language_info": {
   "codemirror_mode": {
    "name": "ipython",
    "version": 3
   },
   "file_extension": ".py",
   "mimetype": "text/x-python",
   "name": "python",
   "nbconvert_exporter": "python",
   "pygments_lexer": "ipython3",
   "version": "3.7.6"
  }
 },
 "nbformat": 4,
 "nbformat_minor": 4
}
