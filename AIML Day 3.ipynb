{
 "cells": [
  {
   "cell_type": "code",
   "execution_count": 47,
   "metadata": {},
   "outputs": [
    {
     "data": {
      "text/plain": [
       "(int, float, str, bool, complex)"
      ]
     },
     "execution_count": 47,
     "metadata": {},
     "output_type": "execute_result"
    }
   ],
   "source": [
    "# 1. A program to subtract two complex numbers.\n",
    "\n",
    "def SubtractComplexNumbers(c1, c2): \n",
    "    return c1 - c2 \n",
    "  \n",
    "\n",
    "n1 = 11 + 11j \n",
    "n2 = 10 + 1j \n",
    "\"Subtraction of two complex numbers would be : \", SubtractComplexNumbers(n1, n2)\n",
    "\n",
    "\n",
    "# 2. A program to find the fourth root of a number.\n",
    "def fourthRoot(num):\n",
    "    return num ** 0.25\n",
    "\n",
    "\"Fourth root would be : \", fourthRoot(625)\n",
    "\n",
    "\n",
    "# 3. A program to swap two numbers in Python with the help of a temporary variable.\n",
    "def swapValues(c1, c2):\n",
    "    temp = c1\n",
    "    c1 = c2\n",
    "    c2 = temp \n",
    "    return c1, c2 \n",
    "\n",
    "\"Swapping values :\", swapValues (10, 12)\n",
    "\n",
    "\n",
    "# 4. A program to swap two numbers in Python without using a temporary variable.\n",
    "def swapValuesNoTemp(c1, c2):\n",
    "    c1 = c1 + c2 \n",
    "    c2 = c1 - c2\n",
    "    c1 = c1 - c2\n",
    "    return c1, c2 \n",
    "\n",
    "    \n",
    "\"Swapping values without Temp Variable :\", swapValuesNoTemp (10, 12)\n",
    "\n",
    "# 5. A program to convert Fahrenheit to kelvin and celsius both.\n",
    "def convertToKelvinAndCelcius(Fahrenheit): \n",
    "    Celcius = (Fahrenheit - 32) * 5/9 \n",
    "    Kelvin  = Celcius + 273.15 \n",
    "    return Kelvin, Celcius \n",
    "\n",
    "\"Kelvin and Celcius values :\", convertToKelvinAndCelcius(10)\n",
    "\n",
    "\n",
    "\n",
    "# 6. A program to demonstrate all the available data types in Python.\n",
    "def ShowTypes():\n",
    "    return type(10), type(10.2), type(\"abcd\"), type(True), type(1 + 2j)\n",
    "\n",
    "ShowTypes()\n",
    "\n",
    "# 7. "
   ]
  }
 ],
 "metadata": {
  "kernelspec": {
   "display_name": "Python 3",
   "language": "python",
   "name": "python3"
  },
  "language_info": {
   "codemirror_mode": {
    "name": "ipython",
    "version": 3
   },
   "file_extension": ".py",
   "mimetype": "text/x-python",
   "name": "python",
   "nbconvert_exporter": "python",
   "pygments_lexer": "ipython3",
   "version": "3.7.6"
  }
 },
 "nbformat": 4,
 "nbformat_minor": 4
}
