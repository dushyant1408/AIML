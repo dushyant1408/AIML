{
 "cells": [
  {
   "cell_type": "code",
   "execution_count": 40,
   "metadata": {},
   "outputs": [
    {
     "name": "stdout",
     "output_type": "stream",
     "text": [
      "Prime Number  1  :  2\n",
      "Prime Number  1  :  3\n",
      "Prime Number  2  :  5\n",
      "Prime Number  3  :  7\n",
      "Prime Number  4  :  11\n",
      "Prime Number  5  :  13\n",
      "Prime Number  6  :  17\n",
      "Prime Number  7  :  19\n",
      "Prime Number  8  :  23\n",
      "Prime Number  9  :  29\n",
      "Prime Number  10  :  31\n",
      "Prime Number  11  :  37\n",
      "Prime Number  12  :  41\n",
      "Prime Number  13  :  43\n",
      "Prime Number  14  :  47\n",
      "Prime Number  15  :  53\n",
      "Prime Number  16  :  59\n",
      "Prime Number  17  :  61\n",
      "Prime Number  18  :  67\n",
      "Prime Number  19  :  71\n",
      "Prime Number  20  :  73\n"
     ]
    }
   ],
   "source": [
    "# 1. Write a Python program to find the first 20 non-even prime natural numbers.\n",
    "\n",
    "\n",
    "# Python program to display all the prime numbers within an interval\n",
    "NumLimit = 0\n",
    "checkNumber = 2\n",
    "isprime = 0 \n",
    "\n",
    "print(\"Prime Number \", NumLimit + 1, \" : \", checkNumber)\n",
    "\n",
    "while NumLimit < 20:\n",
    "    for intCheck in range(2, checkNumber, 1):\n",
    "        if (checkNumber % intCheck == 0): \n",
    "            isprime = 0 \n",
    "            break \n",
    "        else:\n",
    "            isprime = 1 \n",
    "    if (isprime == 1): \n",
    "        print(\"Prime Number \", NumLimit + 1, \" : \", checkNumber)\n",
    "        NumLimit += 1\n",
    "    checkNumber += 1 \n",
    "    \n"
   ]
  },
  {
   "cell_type": "code",
   "execution_count": 86,
   "metadata": {},
   "outputs": [
    {
     "name": "stdout",
     "output_type": "stream",
     "text": [
      "1. Capitalise I think, therefore i am. \n",
      "2. Count of e:  3\n",
      "3. Find 'fore' :  14\n",
      "4. Index of 'think' :  2\n",
      "5. isalnum :  False\n",
      "6. isalpha :  False\n",
      "7. Join :  1I think, therefore I Am. 2I think, therefore I Am. 3\n",
      "8. lower Case : i think, therefore i am. \n",
      "9. lstrip : , therefore I Am. \n",
      "10. replace :  I think, therefore We are. \n",
      "11. split :  ['I', 'think,', 'therefore', 'I', 'Am.', '']\n",
      "12. swapcase :  i THINK, THEREFORE i aM. \n",
      "13. upper :  I THINK, THEREFORE I AM. \n",
      "14. partition :  ('I', ' ', 'think, therefore I Am. ')\n",
      "15. title :  I Think, Therefore I Am. \n"
     ]
    }
   ],
   "source": [
    "# 2. Write a Python program to implement 15 functions of string.\n",
    "\n",
    "aString = \"I think, therefore I Am. \"\n",
    "\n",
    "print(\"1. Capitalise\", aString.capitalize())\n",
    "\n",
    "print(\"2. Count of e: \", aString.count(\"e\"))\n",
    "\n",
    "print(\"3. Find 'fore' : \", aString.find(\"fore\"))\n",
    "\n",
    "print(\"4. Index of 'think' : \", aString.index(\"think\"))\n",
    "\n",
    "print(\"5. isalnum : \", aString.isalnum()) \n",
    "\n",
    "print(\"6. isalpha : \", aString.isalpha())\n",
    "\n",
    "print(\"7. Join : \", aString.join(\"123\"))\n",
    "\n",
    "print(\"8. lower Case :\", aString.lower())\n",
    "\n",
    "print(\"9. lstrip :\", aString.lstrip(\"I think\"))\n",
    "\n",
    "print(\"10. replace : \", aString.replace(\"I Am\", \"We are\"))\n",
    "\n",
    "print(\"11. split : \", aString.split(\" \"))\n",
    "\n",
    "print(\"12. swapcase : \", aString.swapcase())\n",
    "\n",
    "print(\"13. upper : \", aString.upper()) \n",
    "\n",
    "print(\"14. partition : \", aString.partition(\" \"))\n",
    "\n",
    "print(\"15. title : \", aString.title())"
   ]
  },
  {
   "cell_type": "code",
   "execution_count": 92,
   "metadata": {},
   "outputs": [
    {
     "name": "stdout",
     "output_type": "stream",
     "text": [
      "It is a Palindrome.\n"
     ]
    }
   ],
   "source": [
    "# 3. Write a Python program to check if the given string is a Palindrome or Anagram or None of them. Display\n",
    "# the message accordingly to the user.\n",
    "\n",
    "aString = \"malayalam\"\n",
    "\n",
    "if aString == aString[::-1]: \n",
    "    print(\"It is a Palindrome.\")\n",
    "else:\n",
    "    print(\"It is not a Palindrome.\")\n"
   ]
  },
  {
   "cell_type": "code",
   "execution_count": 100,
   "metadata": {},
   "outputs": [
    {
     "name": "stdout",
     "output_type": "stream",
     "text": [
      "This is an Email Address \n"
     ]
    }
   ],
   "source": [
    "# 4. Write a Python's user-defined function that removes all the additional characters from the string and\n",
    "#    convert it finally to lower case using built-in lower(). eg: If the string is \"Dr. Darshan Ingle @AIML Trainer\",\n",
    "#    then the output be \"drdarshaningleaimltrainer\".\n",
    "\n",
    "aString = \"This$ is &an #Email @Address. \"\n",
    "newString = \"\" \n",
    "for Char in aString:\n",
    "    if Char.isalnum() or Char == \" \":\n",
    "        newString = newString + Char  \n",
    "print(newString)"
   ]
  }
 ],
 "metadata": {
  "kernelspec": {
   "display_name": "Python 3",
   "language": "python",
   "name": "python3"
  },
  "language_info": {
   "codemirror_mode": {
    "name": "ipython",
    "version": 3
   },
   "file_extension": ".py",
   "mimetype": "text/x-python",
   "name": "python",
   "nbconvert_exporter": "python",
   "pygments_lexer": "ipython3",
   "version": "3.7.6"
  }
 },
 "nbformat": 4,
 "nbformat_minor": 4
}
